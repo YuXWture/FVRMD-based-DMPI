{
 "cells": [
  {
   "cell_type": "code",
   "execution_count": 1,
   "metadata": {},
   "outputs": [],
   "source": [
    "import sys\n",
    "sys.path.extend(['src'])\n",
    "\n",
    "import imp\n",
    "import numpy as np\n",
    "from numpy.random import default_rng\n",
    "from scipy import signal\n",
    "from scipy.fft import rfft, rfftfreq\n",
    "import pandas as pd\n",
    "from tqdm import tqdm\n",
    "\n",
    "from src import *\n",
    "\n",
    "import matplotlib as mpl \n",
    "import matplotlib.pyplot as plt\n",
    "from IPython.display import clear_output, HTML"
   ]
  },
  {
   "cell_type": "markdown",
   "metadata": {},
   "source": [
    "## 0. Preparation"
   ]
  },
  {
   "cell_type": "markdown",
   "metadata": {},
   "source": [
    "> Set plotting theme"
   ]
  },
  {
   "cell_type": "code",
   "execution_count": 2,
   "metadata": {},
   "outputs": [],
   "source": [
    "plt.rcParams['axes.unicode_minus'] = False\n",
    "plt.rcParams['font.family'] = 'times new roman'\n",
    "plt.rcParams['mathtext.fontset'] = 'stix'\n",
    "plt.rcParams['font.size'] = 10\n",
    "plt.rcParams['axes.labelsize'] = 9\n",
    "plt.rcParams['axes.titlesize'] = 9\n",
    "plt.rcParams['legend.fontsize'] = 8\n",
    "plt.rcParams['xtick.labelsize'] = 8.5\n",
    "plt.rcParams['ytick.labelsize'] = 8.5\n",
    "plt.rcParams['xtick.major.pad'] = 2.1\n",
    "plt.rcParams['ytick.major.pad'] = 2.1\n",
    "plt.rcParams['xtick.minor.pad'] = 2.0\n",
    "plt.rcParams['ytick.minor.pad'] = 2.0\n",
    "plt.rcParams['savefig.pad_inches'] = 0.1\n",
    "plt.rcParams['axes.labelpad'] = 3\n",
    "plt.rcParams['axes.titlepad'] = 4.5\n",
    "plt.rcParams['grid.linewidth'] = .3\n",
    "plt.rcParams['axes.linewidth'] = 0.5\n",
    "plt.rcParams['axes.spines.bottom'] = True\n",
    "plt.rcParams['axes.spines.top'] = True\n",
    "plt.rcParams['axes.spines.left'] = True\n",
    "plt.rcParams['axes.spines.right'] = True\n",
    "plt.rcParams['axes.facecolor'] = '#fefefe'\n",
    "plt.rcParams['lines.linewidth'] = 1.\n",
    "plt.rcParams['xtick.major.width'] = .75\n",
    "plt.rcParams['xtick.minor.width'] = .5\n",
    "plt.rcParams['ytick.major.width'] = .75\n",
    "plt.rcParams['ytick.minor.width'] = .5\n",
    "plt.rcParams['figure.subplot.bottom'] = 0.165\n",
    "plt.rcParams['figure.subplot.top'] = 0.95\n",
    "plt.rcParams['savefig.dpi'] = 300\n",
    "plt.rcParams['figure.dpi'] = 120"
   ]
  },
  {
   "cell_type": "markdown",
   "metadata": {},
   "source": [
    "> Define some functions"
   ]
  },
  {
   "cell_type": "code",
   "execution_count": 3,
   "metadata": {},
   "outputs": [],
   "source": [
    "# plot spectrum of a signal\n",
    "def plot_spectrum(figsize, data, fs, sensor_locs):\n",
    "    fig, ax = plt.subplots(figsize=figsize)\n",
    "    n = data.shape[0]\n",
    "    Yf = rfft(data, axis=0) * 2 / n\n",
    "    xf = rfftfreq(n, 1/fs)\n",
    "    ax.semilogy(xf, np.abs(Yf), '.-', markersize=2)\n",
    "    ax.legend([f'Node: {i}' for i in sensor_locs])\n",
    "    ax.set_ylabel('Spectrum of node acc.')\n",
    "    ax.set_xlabel('Frequency/Hz')\n",
    "    plt.show()\n",
    "    return fig, ax"
   ]
  },
  {
   "cell_type": "markdown",
   "metadata": {},
   "source": [
    "## 1. FEM-simulated simply supported beam"
   ]
  },
  {
   "cell_type": "markdown",
   "metadata": {},
   "source": [
    "> Free response excited by impulse force "
   ]
  },
  {
   "cell_type": "code",
   "execution_count": 4,
   "metadata": {},
   "outputs": [
    {
     "name": "stdout",
     "output_type": "stream",
     "text": [
      "   Theoretical freqency   Freqency  Err. (%)  Damping ratio  Damping factor\n",
      "0              3.322592   3.322592 -0.000003         0.0200        0.417529\n",
      "1             13.290368  13.290362 -0.000043         0.0125        1.043824\n",
      "2             29.903327  29.903262 -0.000217         0.0200        3.757755\n",
      "SNR_0 is: 25.26708043104405\n",
      "SNR_1 is: 27.32940990855091\n",
      "SNR_2 is: 25.445479893358666\n",
      "SNR_3 is: 27.542465062745872\n",
      "SNR_4 is: 25.337583214301173\n"
     ]
    }
   ],
   "source": [
    "%matplotlib inline\n",
    "fs = 500\n",
    "T = 20\n",
    "analysis_params = {\n",
    "    \"zeta\":                 0.02,\n",
    "    \"fs\":                   fs,\n",
    "    \"tol_time\":             T,\n",
    "    \"num_eig\":              3,\n",
    "    \"idx_for_damp_ratio\":   [0, 2]\n",
    "}\n",
    "# pattern\n",
    "# 0: burst force; 1: random force on single node\n",
    "# 2: random force on  5 nodes\n",
    "load_params = {\"pattern\": 0, \"duration\": 0.5, \"magnitude\": 1000,\n",
    "               \"location\": [8], \"seed\": 111}\n",
    "\n",
    "sensor_locs = [6, 11, 20, 29, 34]\n",
    "\n",
    "res0 = get_response_from_simply_supported_beam(\n",
    "    analysis_params=analysis_params, load_params=load_params)\n",
    "\n",
    "res_FEM = pd.DataFrame({\n",
    "    \"Theoretical freqency\": res0['freq_theory'],\n",
    "    \"Freqency\": res0['freq'],\n",
    "    \"Err. (%)\": err_in_percent(res0['freq_theory'], res0['freq']),\n",
    "    \"Damping ratio\": res0['damp_r'],\n",
    "    \"Damping factor\": 2*np.pi*res0['freq']*res0['damp_r']\n",
    "})\n",
    "print(res_FEM)\n",
    "\n",
    "a = int(0.6*fs)\n",
    "N = 3000\n",
    "num_sensor = len(sensor_locs)\n",
    "data_clean = res0['acc'][a:a+N, sensor_locs]\n",
    "\n",
    "noise_std, noise_level = .4, 'low'\n",
    "# noise_std, noise_level = 4., 'high'\n",
    "\n",
    "noise = np.zeros_like(data_clean)\n",
    "data = np.zeros_like(data_clean)\n",
    "for k in range(num_sensor):\n",
    "    noise[:, k] = get_noise(N, noise_std, seed=121+k)\n",
    "    data[:, k] = data_clean[:, k] + noise[:, k]\n",
    "    print(f'SNR_{k} is: {snr(data[:1000, k], noise[:1000, k])}')\n"
   ]
  },
  {
   "cell_type": "code",
   "execution_count": 6,
   "metadata": {},
   "outputs": [
    {
     "data": {
      "image/png": "[encoded data removed]",
      "text/plain": [
       "<Figure size 340.157x85.0394 with 1 Axes>"
      ]
     },
     "metadata": {
      "needs_background": "light"
     },
     "output_type": "display_data"
    },
    {
     "data": {
      "image/png": "[encoded data removed]",
      "text/plain": [
       "<Figure size 496.063x141.732 with 2 Axes>"
      ]
     },
     "metadata": {
      "needs_background": "light"
     },
     "output_type": "display_data"
    }
   ],
   "source": [
    "fig, ax = plt.subplots(figsize=(12/2.54, 3/2.54), tight_layout=True)\n",
    "ax.plot(res0['mode'], marker='.')\n",
    "ax.plot([0, 40], [0, 0], 'grey', alpha=0.5)\n",
    "ax.axis('off')\n",
    "ax.legend(['mode 1', 'mode 2', 'mode 3'], loc='right')\n",
    "\n",
    "fig, (ax1, ax2) = plt.subplots(1, 2, figsize=(17.5/2.54, 5/2.54), tight_layout=True)\n",
    "t_start = 0.51\n",
    "t_end = 3.51\n",
    "a = int(t_start*fs)\n",
    "b = int(t_end*fs)\n",
    "sig = res0['acc'][a:b, sensor_locs]\n",
    "time = res0['time'][a:b]\n",
    "n = len(time)\n",
    "for j, s in enumerate(sensor_locs):\n",
    "    ax1.plot(time, sig[:, j], label=f'Node: {s:1d}', lw=1)\n",
    "ax1.grid('on')\n",
    "ax1.legend(loc='upper right')\n",
    "ax1.set_ylabel('Node acc. $(m/s^2)$')\n",
    "ax1.set_xlabel('Time/s')\n",
    "ax1.set_title('(a) Free vibration response')\n",
    "\n",
    "for j, s in enumerate(sensor_locs):\n",
    "    Yf = rfft(sig[:, j]) * 2 / n\n",
    "    xf = rfftfreq(n, 1/fs)\n",
    "    ax2.semilogy(xf, np.abs(Yf), label=f'node: {s:1d}')\n",
    "ax2.grid('on')\n",
    "ax2.set_ylabel('Spectrum of node acc.')\n",
    "ax2.set_xlabel('Frequency/Hz')\n",
    "ax2.set_title('(b) FFT spectrum')\n",
    "plt.show()"
   ]
  },
  {
   "cell_type": "markdown",
   "metadata": {},
   "source": [
    "Parameters identification by `ERA` and `FVRMD`"
   ]
  },
  {
   "cell_type": "code",
   "execution_count": 7,
   "metadata": {},
   "outputs": [
    {
     "name": "stdout",
     "output_type": "stream",
     "text": [
      "Results by `ERA`:\n",
      "   Damping ratio   Error_d   Freqency  Error_f (%)\n",
      "0       0.019962 -0.191459   3.321500    -0.032863\n",
      "1       0.012475 -0.200164  13.257937    -0.243977\n",
      "2       0.019743 -1.285192  29.551315    -1.176953\n",
      "   MAC ERA-FEM\n",
      "0     0.999997\n",
      "1     0.999989\n",
      "2     0.999568\n"
     ]
    },
    {
     "data": {
      "text/plain": [
       "(-2.0, 42.0, -1.1, 1.1)"
      ]
     },
     "execution_count": 7,
     "metadata": {},
     "output_type": "execute_result"
    },
    {
     "data": {
      "image/png": "[encoded data removed]",
      "text/plain": [
       "<Figure size 141.732x85.0394 with 1 Axes>"
      ]
     },
     "metadata": {
      "needs_background": "light"
     },
     "output_type": "display_data"
    }
   ],
   "source": [
    "# ERA\n",
    "K = 3\n",
    "resE = ERA(data[:2000], nin=1, order=K, fs=fs)\n",
    "print('Results by `ERA`:')\n",
    "print(pd.DataFrame({\n",
    "    \"Damping ratio\": resE['damp_r'],\n",
    "    \"Error_d\": err_in_percent(res0['damp_r'][:K], resE['damp_r']),\n",
    "    \"Freqency\": resE['freq'],\n",
    "    \"Error_f (%)\": err_in_percent(res0['freq'][:K], resE['freq'])\n",
    "}))\n",
    "\n",
    "s_loc = np.concatenate(([0], sensor_locs, [40]))\n",
    "x_loc = np.arange(41)\n",
    "\n",
    "mode_t = res0['mode']/np.abs(res0['mode']).max(axis=0) # FEM mode\n",
    "modeE = resE['mode']/np.abs(resE['mode']).max(axis=0)  # ERA mode\n",
    "mask = np.sign(mode_t[sensor_locs, :])  # define a mask as the signs of mode\n",
    "modeE = mask * np.abs(modeE)\n",
    "\n",
    "# MAC\n",
    "macE = [get_MAC(mode_t[sensor_locs, k], modeE[:, k]) for k in range(K)]\n",
    "print(pd.DataFrame({\n",
    "    'MAC ERA-FEM': macE\n",
    "}))\n",
    "\n",
    "# mode shape\n",
    "modeE = np.concatenate((np.zeros((1, K)),\n",
    "                       modeE,\n",
    "                       np.zeros((1, K))), axis=0)\n",
    "\n",
    "fig, ax = plt.subplots(figsize=(5/2.54, 3/2.54), layout=\"constrained\")\n",
    "lns = ax.plot(x_loc, mode_t, '--', lw=1, alpha=0.5)\n",
    "[lns[i].set_color(c) for i, c in enumerate(('r', 'g', 'b'))]\n",
    "lns = plt.plot(s_loc, modeE, '.')\n",
    "[lns[i].set_color(c) for i, c in enumerate(('r', 'g', 'b'))]\n",
    "ax.plot(x_loc, np.zeros(x_loc.shape), '--', c='#454545', lw=0.5)\n",
    "ax.axis('off')"
   ]
  },
  {
   "cell_type": "code",
   "execution_count": 8,
   "metadata": {},
   "outputs": [
    {
     "name": "stderr",
     "output_type": "stream",
     "text": [
      "100%|██████████| 5/5 [00:56<00:00, 11.26s/it]\n"
     ]
    }
   ],
   "source": [
    "# FVRMD\n",
    "K = 3\n",
    "ampF = np.zeros((num_sensor, K))\n",
    "damp_rF = np.zeros((num_sensor, K))\n",
    "freqF = np.zeros((num_sensor, K))\n",
    "phaseF = np.zeros((num_sensor, K))\n",
    "damp_rF_err = np.zeros((num_sensor, K))\n",
    "freqF_err = np.zeros((num_sensor, K))\n",
    "order = [[0, 1, 2],\n",
    "         [0, 1, 2],\n",
    "         [0, 2],\n",
    "         [0, 1, 2],\n",
    "         [0, 1, 2]]  # prior knowledge\n",
    "\n",
    "for chn in tqdm(range(num_sensor)):\n",
    "    K = len(order[chn])\n",
    "    freq0 = 0.95*res0['freq'][order[chn]]\n",
    "    damp_r0 = np.zeros(K)\n",
    "    # a = np.array([1000, 500, 180])\n",
    "    a = 1/freq0 * fs * 10\n",
    "    n_seg = np.array(a, dtype=int)\n",
    "    # print(n_seg)\n",
    "    dataF = data[:3000, chn]\n",
    "    resF, logF = FVRMD(dataF, fs, damp_r0, freq0, n_seg)\n",
    "\n",
    "    ampF[chn, order[chn]] = resF['amp']\n",
    "    damp_rF[chn, order[chn]] = resF['damp_r']\n",
    "    damp_rF_err[chn, order[chn]] = err_in_percent(res0['damp_r'][order[chn]],\n",
    "                                                resF['damp_r'])\n",
    "    freqF[chn, order[chn]] = resF['freq']\n",
    "    freqF_err[chn, order[chn]] = err_in_percent(res0['freq'][order[chn]],\n",
    "                                                resF['freq'])\n",
    "    phaseF[chn, order[chn]] = resF['phase']"
   ]
  },
  {
   "cell_type": "code",
   "execution_count": 9,
   "metadata": {},
   "outputs": [
    {
     "name": "stdout",
     "output_type": "stream",
     "text": [
      "Results by `FVRMD`:\n",
      "   Damping ratio  Error_d  Freqency  Error_f (%)\n",
      "0        0.02005     0.25    3.3211        -0.04\n",
      "1        0.01249    -0.07   13.2568        -0.25\n",
      "2        0.01998    -0.09   29.5109        -1.31\n",
      "   MAC ERA-FEM\n",
      "0     0.999996\n",
      "1     0.999970\n",
      "2     0.998859\n"
     ]
    },
    {
     "data": {
      "text/plain": [
       "(-2.0, 42.0, -1.1, 1.1)"
      ]
     },
     "execution_count": 9,
     "metadata": {},
     "output_type": "execute_result"
    },
    {
     "data": {
      "image/png": "[encoded data removed]",
      "text/plain": [
       "<Figure size 141.732x85.0394 with 1 Axes>"
      ]
     },
     "metadata": {
      "needs_background": "light"
     },
     "output_type": "display_data"
    }
   ],
   "source": [
    "resF = params_assemble(ampF, damp_rF, freqF, phaseF, ref=0, method='max')\n",
    "\n",
    "print('Results by `FVRMD`:')\n",
    "vv = np.array(resF['damp_r'])\n",
    "ww = np.array(resF['freq'])\n",
    "print(pd.DataFrame({\n",
    "    \"Damping ratio\": np.round(vv*1e5)/1e5,\n",
    "    \"Error_d\": np.round(err_in_percent(res0['damp_r'][:K], resF['damp_r'])*1e2)/1e2,\n",
    "    \"Freqency\": np.round(ww*1e4)/1e4,\n",
    "    \"Error_f (%)\": np.round(err_in_percent(res0['freq'][:K], resF['freq'])*1e2)/1e2\n",
    "}))\n",
    "\n",
    "s_loc = np.concatenate(([0], sensor_locs, [40]))\n",
    "x_loc = np.arange(41)\n",
    "\n",
    "mode_t = res0['mode']/np.abs(res0['mode']).max(axis=0)  # FEM mode\n",
    "mode_t[:, 0] = -mode_t[:, 0]\n",
    "mode_t[:, 2] = -mode_t[:, 2]\n",
    "modeE = resF['mode']/np.abs(resF['mode']).max(axis=0)  # ERA mode\n",
    "mask = np.sign(mode_t[sensor_locs, :])  # define a mask as the signs of mode\n",
    "modeE = mask * np.abs(modeE)\n",
    "\n",
    "# MAC\n",
    "macE = [get_MAC(mode_t[sensor_locs, k], modeE[:, k]) for k in range(K)]\n",
    "print(pd.DataFrame({\n",
    "    'MAC ERA-FEM': macE\n",
    "}))\n",
    "\n",
    "# mode shape\n",
    "modeE = np.concatenate((np.zeros((1, K)),\n",
    "                       modeE,\n",
    "                       np.zeros((1, K))), axis=0)\n",
    "\n",
    "fig, ax = plt.subplots(figsize=(5/2.54, 3/2.54), layout=\"constrained\")\n",
    "lns = ax.plot(x_loc, mode_t, '--', lw=1, alpha=0.5)\n",
    "[lns[i].set_color(c) for i, c in enumerate(('r', 'g', 'b'))]\n",
    "lns = plt.plot(s_loc, modeE, '.')\n",
    "[lns[i].set_color(c) for i, c in enumerate(('r', 'g', 'b'))]\n",
    "ax.plot(x_loc, np.zeros(x_loc.shape), '--', c='#454545', lw=0.5)\n",
    "ax.axis('off')"
   ]
  },
  {
   "cell_type": "code",
   "execution_count": null,
   "metadata": {},
   "outputs": [],
   "source": [
    "print('Amplitude:')\n",
    "print(pd.DataFrame(ampF))\n",
    "print('Damping ratio:')\n",
    "print(pd.DataFrame(damp_rF))\n",
    "print(pd.DataFrame(damp_rF_err))\n",
    "print('Frequency')\n",
    "print(pd.DataFrame(freqF))\n",
    "print(pd.DataFrame(freqF_err))\n",
    "print('Phase')\n",
    "print(pd.DataFrame(phaseF))"
   ]
  },
  {
   "cell_type": "code",
   "execution_count": null,
   "metadata": {},
   "outputs": [],
   "source": [
    "# damp\n",
    "fig, (ax1, ax2, ax3) = plt.subplots(\n",
    "    3, 1, figsize=(12/2.54, 12/2.54), tight_layout=True)\n",
    "\n",
    "lns = ax1.plot(logF['damp_r'], marker='.')\n",
    "[lns[i].set_color(c) for i, c in enumerate(('r', 'g', 'b'))]\n",
    "lns = ax1.plot(np.ones_like(logF['damp_r']) * res0['damp_r'], '--')\n",
    "[lns[i].set_color(c) for i, c in enumerate(('r', 'g', 'b'))]\n",
    "ax1.set_title('varying damp ratio')\n",
    "\n",
    "lns = ax2.plot((logF['alpha']), marker='.')\n",
    "[lns[i].set_color(c) for i, c in enumerate(('r', 'g', 'b'))]\n",
    "ax2.set_title('varying alpha')\n",
    "\n",
    "lns = ax3.plot(np.log10(logF['loss_reg']), '--', marker='.')\n",
    "[lns[i].set_color(c) for i, c in enumerate(('r', 'g', 'b'))]\n",
    "lns = ax3.plot(np.log10(logF['diff'][1:]), '-.', marker='<')\n",
    "[lns[i].set_color(c) for i, c in enumerate(('r', 'g', 'b'))]\n",
    "ax3.set_title('varying loss_reg')\n",
    "plt.show()"
   ]
  }
 ],
 "metadata": {
  "kernelspec": {
   "display_name": "Python 3 (ipykernel)",
   "language": "python",
   "name": "python3"
  },
  "language_info": {
   "codemirror_mode": {
    "name": "ipython",
    "version": 3
   },
   "file_extension": ".py",
   "mimetype": "text/x-python",
   "name": "python",
   "nbconvert_exporter": "python",
   "pygments_lexer": "ipython3",
   "version": "3.9.12"
  },
  "toc-autonumbering": true,
  "toc-showmarkdowntxt": false,
  "toc-showtags": false,
  "vscode": {
   "interpreter": {
    "hash": "c4b292f77f98ee959ccfc1d26147b9cfd6136c7d590575db181865fb841bdccd"
   }
  }
 },
 "nbformat": 4,
 "nbformat_minor": 4
}
